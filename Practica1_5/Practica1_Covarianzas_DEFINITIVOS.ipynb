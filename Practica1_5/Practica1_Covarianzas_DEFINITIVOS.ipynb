{
 "cells": [
  {
   "cell_type": "markdown",
   "metadata": {},
   "source": [
    "Obtener e interpretar la matriz de covarianzas y la de correlaciones\n",
    "para las 6 variables cuantitativas consideradas. "
   ]
  },
  {
   "cell_type": "code",
   "execution_count": 5,
   "metadata": {},
   "outputs": [],
   "source": [
    "# Librerias que vamos a utilizar\n",
    "import matplotlib.pyplot as plt\n",
    "import pandas as pd\n",
    "import math as m"
   ]
  },
  {
   "cell_type": "code",
   "execution_count": 6,
   "metadata": {},
   "outputs": [],
   "source": [
    "SNE=pd.read_csv(\"SNE_Historical_Data.csv\",index_col=None)\n",
    "GME=pd.read_csv(\"GME_Historical_Data.csv\",index_col=None)\n",
    "SNE_E=pd.read_csv(\"SNE_Historical_Data_extendido.csv\",index_col=None)\n",
    "GME_E=pd.read_csv(\"GME_Historical_Data_extendido.csv\",index_col=None)"
   ]
  },
  {
   "cell_type": "raw",
   "metadata": {},
   "source": [
    "Rendimiento Diario"
   ]
  },
  {
   "cell_type": "code",
   "execution_count": 7,
   "metadata": {},
   "outputs": [
    {
     "name": "stdout",
     "output_type": "stream",
     "text": [
      "Covarianza\n",
      "3.8320538844415277\n",
      "-1.5828508476485312\n",
      "-1.5828508476485312\n",
      "88.78959699103389\n",
      " \n",
      "Coeficiente de Correlacion lineal de Pearson\n",
      "1.0000000000000002\n",
      "-0.08581103636615842\n",
      "-0.08581103636615842\n",
      "1.0\n"
     ]
    }
   ],
   "source": [
    "# Primero sacamos lo que es relevante para nosotros\n",
    "RND_SNE=[]\n",
    "RND_GME=[]\n",
    "for i in range(len(SNE)): \n",
    "    RND_SNE.append(float(SNE[\"Change %\"][i][:-1]))\n",
    "    RND_GME.append(float(GME[\"Change %\"][i][:-1]))\n",
    "    \n",
    "print(\"Covarianza\")\n",
    "print(Covarianza(RND_SNE,RND_SNE))    \n",
    "print(Covarianza(RND_SNE,RND_GME)) #conmutación --> mismo resultado\n",
    "print(Covarianza(RND_GME,RND_SNE)) \n",
    "print(Covarianza(RND_GME,RND_GME))\n",
    "#Covarianza <0 --> Cuando el rendimiento diario de Sony/GameStop sube, el rendimiento diario de la otra compañia baja\n",
    " \n",
    "print(\" \")\n",
    "\n",
    "print(\"Coeficiente de Correlacion lineal de Pearson\")\n",
    "print(correlacion(RND_SNE,RND_SNE)) # Debe ser 1 ya que la relación con sí mismo es de dependencia linea directa\n",
    "print(correlacion(RND_SNE,RND_GME)) #conmutación --> mismo resultado\n",
    "print(correlacion(RND_GME,RND_SNE))\n",
    "print(correlacion(RND_GME,RND_GME))\n",
    "#Correlacion < 0 (pero muy poco) --> Hay poca dependencia lineal inversa ---> poca relación lineal\n",
    "\n"
   ]
  },
  {
   "cell_type": "markdown",
   "metadata": {},
   "source": [
    "Media Movil 50 dias"
   ]
  },
  {
   "cell_type": "code",
   "execution_count": 8,
   "metadata": {},
   "outputs": [
    {
     "name": "stdout",
     "output_type": "stream",
     "text": [
      "Covarianza\n",
      "155.47174744543997\n",
      "-3.70000764889905\n",
      "-3.70000764889905\n",
      "35.91305049336901\n",
      " \n",
      "Coeficiente de Correlacion lineal de Pearson\n",
      "1.0\n",
      "-0.049516590553008936\n",
      "-0.049516590553008936\n",
      "0.9999999999999998\n"
     ]
    }
   ],
   "source": [
    "aux_price=[]\n",
    "aux_panda=pd.DataFrame()\n",
    "RND_SNE=[]\n",
    "RND_GME=[]\n",
    "for i in range(len(SNE_E)):\n",
    "    aux_price.append(SNE_E[\"Price\"][i])\n",
    "    \n",
    "aux_price.reverse()\n",
    "aux_panda[\"Price\"]=aux_price\n",
    "aux_panda[\"MA\"]=aux_panda[\"Price\"].rolling(window=50).mean()\n",
    "\n",
    "for i in range(len(SNE)):  \n",
    "    RND_SNE.append(aux_panda[\"MA\"][246+i]) \n",
    "    \n",
    "aux_price=[]\n",
    "aux_panda=pd.DataFrame()    \n",
    "for i in range(len(GME_E)):\n",
    "    aux_price.append(GME_E[\"Price\"][i])\n",
    "    \n",
    "aux_price.reverse()\n",
    "aux_panda[\"Price\"]=aux_price\n",
    "aux_panda[\"MA\"]=aux_panda[\"Price\"].rolling(window=50).mean()\n",
    "    \n",
    "                   \n",
    "for i in range(len(SNE)): \n",
    "    RND_GME.append(aux_panda[\"MA\"][246+i]) \n",
    "    \n",
    "print(\"Covarianza\")\n",
    "print(Covarianza(RND_SNE,RND_SNE))    \n",
    "print(Covarianza(RND_SNE,RND_GME)) #conmutación --> mismo resultado\n",
    "print(Covarianza(RND_GME,RND_SNE)) \n",
    "print(Covarianza(RND_GME,RND_GME))\n",
    "#Covarianza <0 --> Cuando el M.A. de 50 días de Sony/GameStop sube, el M.A. de la 50 días de la otra compañia baja\n",
    " \n",
    "print(\" \")\n",
    "\n",
    "print(\"Coeficiente de Correlacion lineal de Pearson\")\n",
    "print(correlacion(RND_SNE,RND_SNE)) # Debe ser 1 ya que la relación con sí mismo es de dependencia linea directa\n",
    "print(correlacion(RND_SNE,RND_GME)) #conmutación --> mismo resultado\n",
    "print(correlacion(RND_GME,RND_SNE))\n",
    "print(correlacion(RND_GME,RND_GME))\n",
    "#Correlacion < 0 (pero muy poco) --> Hay poca dependencia lineal inversa ---> poca relación lineal\n",
    "\n"
   ]
  },
  {
   "cell_type": "markdown",
   "metadata": {},
   "source": [
    "Media Movil 200 días"
   ]
  },
  {
   "cell_type": "code",
   "execution_count": 9,
   "metadata": {},
   "outputs": [
    {
     "name": "stdout",
     "output_type": "stream",
     "text": [
      "Covarianza\n",
      "89.27637599174307\n",
      "-35.59626896211188\n",
      "-35.59626896211188\n",
      "25.956715977949884\n",
      " \n",
      "Coeficiente de Correlacion lineal de Pearson\n",
      "0.9999999999999999\n",
      "-0.7394542864591293\n",
      "-0.7394542864591293\n",
      "1.0\n"
     ]
    }
   ],
   "source": [
    "aux_price=[]\n",
    "aux_panda=pd.DataFrame()\n",
    "RND_SNE=[]\n",
    "RND_GME=[]\n",
    "for i in range(len(SNE_E)):\n",
    "    aux_price.append(SNE_E[\"Price\"][i])\n",
    "    \n",
    "aux_price.reverse()\n",
    "aux_panda[\"Price\"]=aux_price\n",
    "aux_panda[\"MA\"]=aux_panda[\"Price\"].rolling(window=200).mean()\n",
    "\n",
    "for i in range(len(SNE)):  \n",
    "    RND_SNE.append(aux_panda[\"MA\"][246+i]) \n",
    "    \n",
    "aux_price=[]\n",
    "aux_panda=pd.DataFrame()    \n",
    "for i in range(len(GME_E)):\n",
    "    aux_price.append(GME_E[\"Price\"][i])\n",
    "    \n",
    "aux_price.reverse()\n",
    "aux_panda[\"Price\"]=aux_price\n",
    "aux_panda[\"MA\"]=aux_panda[\"Price\"].rolling(window=200).mean()\n",
    "    \n",
    "                   \n",
    "for i in range(len(SNE)):  \n",
    "    RND_GME.append(aux_panda[\"MA\"][246+i])  \n",
    "    \n",
    "print(\"Covarianza\")\n",
    "print(Covarianza(RND_SNE,RND_SNE))    \n",
    "print(Covarianza(RND_SNE,RND_GME)) #conmutación --> mismo resultado\n",
    "print(Covarianza(RND_GME,RND_SNE)) \n",
    "print(Covarianza(RND_GME,RND_GME))\n",
    "#Covarianza <0 --> Cuando el M.A. de 200 días de Sony/GameStop sube, el M.A. de la 200 días de la otra compañia baja\n",
    "print(\" \")\n",
    "\n",
    "print(\"Coeficiente de Correlacion lineal de Pearson\")\n",
    "print(correlacion(RND_SNE,RND_SNE)) # Debe ser 1 ya que la relación con sí mismo es de dependencia linea directa\n",
    "print(correlacion(RND_SNE,RND_GME)) #conmutación --> mismo resultado\n",
    "print(correlacion(RND_GME,RND_SNE))\n",
    "print(correlacion(RND_GME,RND_GME))\n",
    "#Correlacion < 0 --> Fuerte dependencia lineal inversa ---> Fuerte relación lineal\n",
    "\n"
   ]
  },
  {
   "cell_type": "markdown",
   "metadata": {},
   "source": [
    "Funciones"
   ]
  },
  {
   "cell_type": "code",
   "execution_count": 1,
   "metadata": {},
   "outputs": [],
   "source": [
    "def Covarianza(X,Y): #Se puede suponer que X e Y tienen el mismo número de elementos\n",
    "    suma=0 \n",
    "    for i in range(len(X)):\n",
    "        suma+=((X[i]-Media(X))*(Y[i]-Media(Y)))\n",
    "    return suma/(len(X))"
   ]
  },
  {
   "cell_type": "code",
   "execution_count": 2,
   "metadata": {},
   "outputs": [],
   "source": [
    "def CovarianzaMuestral(X,Y): #Se puede suponer que X e Y tienen el mismo número de elementos\n",
    "    suma=0\n",
    "    for i in range(len(X)):\n",
    "        suma+=((X[i]-Media(X))*(Y[i]-Media(Y)))\n",
    "    return suma/(len(X)-1)"
   ]
  },
  {
   "cell_type": "code",
   "execution_count": 3,
   "metadata": {},
   "outputs": [],
   "source": [
    "def Media(X):\n",
    "    suma=0\n",
    "    for i in range(len(X)):\n",
    "        suma+=X[i]\n",
    "    return suma/len(X)"
   ]
  },
  {
   "cell_type": "code",
   "execution_count": 4,
   "metadata": {},
   "outputs": [],
   "source": [
    "def correlacion(X,Y):\n",
    "    #Sabiendo que CovarianzaMuestra(X,X)=Varianza\n",
    "    numerador=CovarianzaMuestral(X,Y)\n",
    "    denominador=m.sqrt(CovarianzaMuestral(X,X))*m.sqrt(CovarianzaMuestral(Y,Y))\n",
    "    return numerador/denominador"
   ]
  },
  {
   "cell_type": "code",
   "execution_count": null,
   "metadata": {},
   "outputs": [],
   "source": []
  }
 ],
 "metadata": {
  "kernelspec": {
   "display_name": "Python 3",
   "language": "python",
   "name": "python3"
  },
  "language_info": {
   "codemirror_mode": {
    "name": "ipython",
    "version": 3
   },
   "file_extension": ".py",
   "mimetype": "text/x-python",
   "name": "python",
   "nbconvert_exporter": "python",
   "pygments_lexer": "ipython3",
   "version": "3.8.5"
  }
 },
 "nbformat": 4,
 "nbformat_minor": 2
}
